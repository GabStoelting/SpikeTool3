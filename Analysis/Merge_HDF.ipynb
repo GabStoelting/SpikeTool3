{
 "cells": [
  {
   "cell_type": "code",
   "execution_count": 1,
   "id": "noble-confirmation",
   "metadata": {},
   "outputs": [],
   "source": [
    "import calim\n"
   ]
  },
  {
   "cell_type": "code",
   "execution_count": 2,
   "id": "soviet-principal",
   "metadata": {},
   "outputs": [],
   "source": [
    "hdf_input_filenames = [\"C:/Users/gabri/Downloads/Cal520AM_Osmo_Zeitverlauf_GS_210601.hdf\",\n",
    "                      \"C:/Users/gabri/Downloads/Cal520AM_Osmo_312_MV_211127.hdf\"]\n",
    "\n",
    "hdf_output_filename = \"C:/Users/gabri/Downloads/Cal520AM_OsmoDaten_GS_211105.hdf\"\n",
    "\n",
    "if hdf_output_filename in hdf_input_filenames:\n",
    "    print(\"Please output data to a file that is not contained in the input list!\")\n",
    "    \n",
    "if len(hdf_input_filenames) < 2:\n",
    "    print(\"Please state at least two files in the input list!\")"
   ]
  },
  {
   "cell_type": "code",
   "execution_count": 9,
   "id": "peaceful-position",
   "metadata": {},
   "outputs": [],
   "source": [
    "# Create a HDF output project\n",
    "hdf = calim.Project()\n",
    "# Load the first file from the input list\n",
    "hdf.from_hdf(hdf_input_filenames[0])\n",
    "\n",
    "# Iterate over the other files in the input list\n",
    "for in_filename in hdf_input_filenames[1:]:\n",
    "    temp_hdf = calim.Project()\n",
    "    temp_hdf.from_hdf(in_filename)\n",
    "    # Append all recordings from this file to the HDF output project\n",
    "    for rec in temp_hdf.recordings:\n",
    "        hdf.append(temp_hdf.recordings[rec])\n",
    "    "
   ]
  },
  {
   "cell_type": "code",
   "execution_count": 12,
   "id": "accessible-partition",
   "metadata": {},
   "outputs": [
    {
     "name": "stdout",
     "output_type": "stream",
     "text": [
      "/recordings/2010013_Slice_1_Rec_1.csv\n",
      "/recordings/2010013_Slice_2_Rec_1.csv\n",
      "/recordings/2010013_Slice_3_Rec_1.csv\n",
      "/recordings/2010013_Slice_4_Rec_1.csv\n",
      "/recordings/2010016_Slice_2_Rec_1.csv\n",
      "/recordings/2010016_Slice_3_Rec_1.csv\n",
      "/recordings/2010016_Slice_4_Rec_1.csv\n",
      "/recordings/2010016_Slice_5_Rec_1.csv\n",
      "/recordings/201008_Slice_2_Rec_1.csv\n",
      "/recordings/201008_Slice_3_Rec_1.csv\n",
      "/recordings/201008_Slice_4_Rec_1.csv\n",
      "/recordings/210413_Slice_1_Rec_1.csv\n",
      "/recordings/210413_Slice_2_Rec_1.csv\n",
      "/recordings/210413_Slice_3_Rec_1.csv\n",
      "/recordings/210413_Slice_4_Rec_1.csv\n",
      "/recordings/210413_Slice_5_Rec_1.csv\n",
      "/recordings/Maus ClCn2 KO\\Calbryte\\191031_Slice_1_Rec_1_neu.csv\n",
      "/recordings/Maus ClCn2 KO\\Calbryte\\191031_Slice_2_Rec_1_neu.csv\n",
      "/recordings/Maus ClCn2 KO\\Calbryte\\191104_Slice_2_Rec_1_neu.csv\n",
      "/recordings/Maus ClCn2 KO\\Calbryte\\191107_Slice_1_Rec_1_neu.csv\n",
      "/recordings/Maus ClCn2 KO\\Calbryte\\191108_Slice_1_Rec_1_neu.csv\n",
      "/recordings/Maus ClCn2 KO\\Calbryte\\191108_Slice_2_Rec_1_neu.csv\n",
      "/recordings/Maus ClCn2 KO\\Calbryte\\191111_Slice_5_Rec_1_neu.csv\n",
      "/recordings/Maus ClCn2 KO\\Calbryte\\191118_Slice_1_Rec_1_neu.csv\n",
      "/recordings/Maus ClCn2 KO\\Calbryte\\191118_Slice_5_Rec_1_neu.csv\n",
      "/recordings/Maus ClCn2 KO\\Calbryte\\191120_Slice_5_Rec_1_neu.csv\n",
      "/recordings/Maus ClCn2 KO\\Calbryte\\191125_Slice_3_Rec_1_neu.csv\n",
      "/recordings/Maus ClCn2 KO\\Calbryte\\191125_Slice_4_Rec_1_neu.csv\n",
      "/recordings/Maus ClCn2 KO\\Calbryte\\191202_Slice_4_Rec_1_neu.csv\n",
      "/recordings/Maus ClCn2 KO\\Calbryte\\191204_Slice_1_Rec_1_neu.csv\n",
      "/recordings/Maus ClCn2 KO\\Calbryte\\191209_Slice_2_Rec_1_neu.csv\n",
      "/recordings/Maus ClCn2 KO\\Calbryte\\191209_Slice_3_Rec_1_neu.csv\n",
      "/recordings/Maus ClCn2 KO\\Calbryte\\191211_Slice_2_Rec_1_neu.csv\n",
      "/recordings/Maus ClCn2 KO\\Calbryte\\191213_Slice_1_Rec_1_neu.csv\n",
      "/recordings/Maus ClCn2 KO\\Calbryte\\191213_Slice_1_Rec_2_neu.csv\n",
      "/recordings/Maus ClCn2 KO\\Calbryte\\200131_Slice_3_Rec_2.csv\n",
      "/recordings/Maus ClCn2 KO\\Calbryte\\200131_Slice_4_Rec_1.csv\n",
      "/recordings/Maus ClCn2 KO\\Calbryte\\200204_Slice_1_Rec_1.csv\n",
      "/recordings/Maus ClCn2 KO\\Calbryte\\200204_Slice_2_Rec_1.csv\n",
      "/recordings/Maus ClCn2 KO\\Calbryte\\200204_Slice_2_Rec_2.csv\n",
      "/recordings/Maus ClCn2 KO\\Calbryte\\200205_Slice_3_Rec_1.csv\n",
      "/recordings/Maus ClCn2 KO\\Calbryte\\200206_Slice_4_Rec_1.csv\n",
      "/recordings/Maus ClCn2 KO\\Calbryte\\200206_Slice_4_Rec_2.csv\n",
      "/recordings/Maus ClCn2 KO\\Calbryte\\200206_Slice_5_Rec_1.csv\n",
      "/recordings/Maus ClCn2 KO\\Calbryte\\200210_Slice_1_Rec_2.csv\n",
      "/recordings/Maus ClCn2 KO\\Calbryte\\200210_Slice_2_Rec_1.csv\n",
      "/recordings/Maus ClCn2 KO\\Calbryte\\200214_Slice_2_Rec_1.csv\n",
      "/recordings/Maus ClCn2 KO\\Calbryte\\200214_Slice_3_Rec_1.csv\n",
      "/recordings/Maus ClCn2 KO\\Calbryte\\200214_Slice_4_Rec_1.csv\n",
      "/recordings/Maus ClCn2 KO\\Calbryte\\200219_Slice_1_Rec_1.csv\n",
      "/recordings/Maus ClCn2 KO\\Calbryte\\200219_Slice_1_Rec_2.csv\n",
      "/recordings/Maus ClCn2 KO\\Calbryte\\200219_Slice_3_Rec_1.csv\n",
      "/recordings/Maus ClCn2 KO\\Calbryte\\200219_Slice_4_Rec_1.csv\n",
      "/recordings/Maus ClCn2 KO\\Calbryte\\200220_Slice_1_Rec_1.csv\n",
      "/recordings/Maus ClCn2 KO\\Calbryte\\200220_Slice_1_Rec_2.csv\n",
      "/recordings/Maus ClCn2 KO\\Calbryte\\200220_Slice_2_Rec_1.csv\n",
      "/recordings/Maus ClCn2 KO\\Calbryte\\200220_Slice_2_Rec_2.csv\n",
      "/recordings/Maus ClCn2 KO\\Calbryte\\200220_Slice_3_Rec_1.csv\n",
      "/recordings/Maus ClCn2 KO\\Calbryte\\200318_Slice_2_Rec_1.csv\n",
      "/recordings/Maus ClCn2 KO\\Calbryte\\200318_Slice_3_Rec_1.csv\n",
      "/recordings/Maus ClCn2 KO\\Calbryte\\200318_Slice_4_Rec_1.csv\n",
      "/recordings/Maus ClCn2 KO\\Calbryte\\200401_Slice_1_Rec_1.csv\n",
      "/recordings/Maus ClCn2 KO\\Calbryte\\200401_Slice_2_Rec_1.csv\n",
      "/recordings/210916_Slice2_Rec1.csv\n",
      "/recordings/210916_Slice3_Rec1.csv\n",
      "/recordings/210916_Slice4_Rec1.csv\n",
      "/recordings/210916_Slice_1_Rec_1.csv\n",
      "/recordings/210921_Slice_1_Rec_1.csv\n",
      "/recordings/210921_Slice_2_Rec_1.csv\n",
      "/recordings/210921_Slice_3_Rec_1.csv\n",
      "/recordings/210921_Slice_4_Rec_1.csv\n",
      "/recordings/210923_Slice_1_Rec_1.csv\n",
      "/recordings/210923_Slice_2_Rec_1.csv\n",
      "/recordings/210923_Slice_3_Rec_1.csv\n",
      "/recordings/210923_Slice_4_Rec_1.csv\n",
      "/recordings/210923_Slice_5_Rec_1.csv\n",
      "/recordings/210927_Slice_1_Rec_1.csv\n",
      "/recordings/210927_Slice_2_Rec_1.csv\n",
      "/recordings/210927_Slice_3_Rec_1.csv\n",
      "/recordings/210927_Slice_4_Rec_1.csv\n"
     ]
    }
   ],
   "source": [
    "# Save new HDF\n",
    "hdf.to_hdf(hdf_output_filename)"
   ]
  },
  {
   "cell_type": "code",
   "execution_count": null,
   "id": "preceding-client",
   "metadata": {},
   "outputs": [],
   "source": []
  }
 ],
 "metadata": {
  "kernelspec": {
   "display_name": "Python 3",
   "language": "python",
   "name": "python3"
  },
  "language_info": {
   "codemirror_mode": {
    "name": "ipython",
    "version": 3
   },
   "file_extension": ".py",
   "mimetype": "text/x-python",
   "name": "python",
   "nbconvert_exporter": "python",
   "pygments_lexer": "ipython3",
   "version": "3.8.3"
  }
 },
 "nbformat": 4,
 "nbformat_minor": 5
}
